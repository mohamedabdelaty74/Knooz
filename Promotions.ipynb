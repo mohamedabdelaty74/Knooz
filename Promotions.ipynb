{
  "nbformat": 4,
  "nbformat_minor": 0,
  "metadata": {
    "colab": {
      "provenance": [],
      "authorship_tag": "ABX9TyOtx59d+AZ+VwIgcdVMbXTI",
      "include_colab_link": true
    },
    "kernelspec": {
      "name": "python3",
      "display_name": "Python 3"
    },
    "language_info": {
      "name": "python"
    }
  },
  "cells": [
    {
      "cell_type": "markdown",
      "metadata": {
        "id": "view-in-github",
        "colab_type": "text"
      },
      "source": [
        "<a href=\"https://colab.research.google.com/github/mohamedabdelaty74/Knooz/blob/main/Promotions.ipynb\" target=\"_parent\"><img src=\"https://colab.research.google.com/assets/colab-badge.svg\" alt=\"Open In Colab\"/></a>"
      ]
    },
    {
      "cell_type": "code",
      "source": [
        "# Merged processing function for case1, case1.1, case2, and case2.1\n",
        "\n",
        "def process_all_cases_combined(file_path):\n",
        "    # Load the Excel file\n",
        "    data_alotour_new_filled = pd.read_excel(\"/content/عروض شهر سبتمبر 2024 مالية.xlsx\", sheet_name='العطور والبخور')  # Load the correct sheet\n",
        "\n",
        "    # Fill down missing values for all relevant columns\n",
        "    data_alotour_new_filled.fillna(method='ffill', inplace=True)\n",
        "\n",
        "    # Processing for case1\n",
        "    case1_data_new = data_alotour_new_filled[data_alotour_new_filled['Status'] == 'case1']\n",
        "    case1_data_new.columns = ['Status', 'Internal_Reference', 'Product_Name', 'Price_Before_Discount', 'Description', 'Price_After_Discount']\n",
        "\n",
        "    product_combinations_case1 = list(combinations(case1_data_new.itertuples(), 2))\n",
        "    combined_codes_case1 = []\n",
        "    combined_names_case1 = []\n",
        "    combined_prices_before_case1 = []\n",
        "    combined_prices_after_case1 = []\n",
        "    combined_descriptions_case1 = []\n",
        "\n",
        "    for comb in product_combinations_case1:\n",
        "        code_comb = f\"{comb[0].Internal_Reference}, {comb[1].Internal_Reference}\"\n",
        "        name_comb = f\"{comb[0].Product_Name} + {comb[1].Product_Name}\"\n",
        "        price_before_comb = comb[0].Price_Before_Discount + comb[1].Price_Before_Discount\n",
        "        price_after_comb = comb[0].Price_After_Discount + comb[1].Price_After_Discount\n",
        "        description_comb = f\"{comb[0].Description}, {comb[1].Description}\"\n",
        "\n",
        "        combined_codes_case1.append(code_comb)\n",
        "        combined_names_case1.append(name_comb)\n",
        "        combined_prices_before_case1.append(price_before_comb)\n",
        "        combined_prices_after_case1.append(price_after_comb)\n",
        "        combined_descriptions_case1.append(description_comb)\n",
        "\n",
        "    case1_combination_df_new = pd.DataFrame({\n",
        "        'Combined Codes': combined_codes_case1,\n",
        "        'Combined Names': combined_names_case1,\n",
        "        'Combined Price Before Discount': combined_prices_before_case1,\n",
        "        'Combined Price After Discount': combined_prices_after_case1,\n",
        "        'Description': combined_descriptions_case1\n",
        "    })\n",
        "\n",
        "    case1_combination_df_new['Discount Percentage'] = (\n",
        "        (case1_combination_df_new['Combined Price Before Discount'] - case1_combination_df_new['Combined Price After Discount'])\n",
        "        / case1_combination_df_new['Combined Price Before Discount']\n",
        "    ) * 100\n",
        "\n",
        "    # Processing for case1.1\n",
        "    case1_1_data_new = data_alotour_new_filled[data_alotour_new_filled['Status'] == 'case1.1']\n",
        "    case1_1_data_new.columns = ['Status', 'Internal_Reference', 'Product_Name', 'Price_Before_Discount', 'Description', 'Price_After_Discount']\n",
        "\n",
        "    product_combinations_case1_1 = list(combinations(case1_1_data_new.itertuples(), 2))\n",
        "    combined_codes_case1_1 = []\n",
        "    combined_names_case1_1 = []\n",
        "    combined_prices_before_case1_1 = []\n",
        "    combined_prices_after_case1_1 = []\n",
        "    combined_descriptions_case1_1 = []\n",
        "\n",
        "    for comb in product_combinations_case1_1:\n",
        "        code_comb = f\"{comb[0].Internal_Reference}, {comb[1].Internal_Reference}\"\n",
        "        name_comb = f\"{comb[0].Product_Name} + {comb[1].Product_Name}\"\n",
        "        price_before_comb = comb[0].Price_Before_Discount + comb[1].Price_Before_Discount\n",
        "        price_after_comb = comb[0].Price_After_Discount + comb[1].Price_After_Discount\n",
        "        description_comb = f\"{comb[0].Description}, {comb[1].Description}\"\n",
        "\n",
        "        combined_codes_case1_1.append(code_comb)\n",
        "        combined_names_case1_1.append(name_comb)\n",
        "        combined_prices_before_case1_1.append(price_before_comb)\n",
        "        combined_prices_after_case1_1.append(price_after_comb)\n",
        "        combined_descriptions_case1_1.append(description_comb)\n",
        "\n",
        "    case1_1_combination_df_new = pd.DataFrame({\n",
        "        'Combined Codes': combined_codes_case1_1,\n",
        "        'Combined Names': combined_names_case1_1,\n",
        "        'Combined Price Before Discount': combined_prices_before_case1_1,\n",
        "        'Combined Price After Discount': combined_prices_after_case1_1,\n",
        "        'Description': combined_descriptions_case1_1\n",
        "    })\n",
        "\n",
        "    case1_1_combination_df_new['Discount Percentage'] = (\n",
        "        (case1_1_combination_df_new['Combined Price Before Discount'] - case1_1_combination_df_new['Combined Price After Discount'])\n",
        "        / case1_1_combination_df_new['Combined Price Before Discount']\n",
        "    ) * 100\n",
        "\n",
        "    # Processing for case2 and case2.1 (only combine between case2 and case2.1)\n",
        "    case2_data_new = data_alotour_new_filled[data_alotour_new_filled['Status'] == 'case2'].head(8)\n",
        "    case2_1_data_new = data_alotour_new_filled[data_alotour_new_filled['Status'] == 'case2.1'].head(4)\n",
        "\n",
        "    combined_codes_case2 = []\n",
        "    combined_names_case2 = []\n",
        "    combined_prices_before_case2 = []\n",
        "    combined_prices_after_case2 = []\n",
        "    combined_descriptions_case2 = []\n",
        "\n",
        "    for product_case2 in case2_data_new.itertuples(index=False):  # Ensure only 8 products from case2\n",
        "        for product_case2_1 in case2_1_data_new.itertuples(index=False):  # Ensure only 4 products from case2.1\n",
        "            code_comb = f\"{product_case2[1]}, {product_case2_1[1]}\"\n",
        "            name_comb = f\"{product_case2[2]} + {product_case2_1[2]}\"\n",
        "            price_before_comb = product_case2[3] + product_case2_1[3]\n",
        "            price_after_comb = product_case2[5] + product_case2_1[5]\n",
        "            description_comb = f\"{product_case2[4]}\"\n",
        "\n",
        "            combined_codes_case2.append(code_comb)\n",
        "            combined_names_case2.append(name_comb)\n",
        "            combined_prices_before_case2.append(price_before_comb)\n",
        "            combined_prices_after_case2.append(price_after_comb)\n",
        "            combined_descriptions_case2.append(description_comb)\n",
        "\n",
        "    case2_combination_df_fixed = pd.DataFrame({\n",
        "        'Combined Codes': combined_codes_case2,\n",
        "        'Combined Names': combined_names_case2,\n",
        "        'Combined Price Before Discount': combined_prices_before_case2,\n",
        "        'Combined Price After Discount': combined_prices_after_case2,\n",
        "        'Description': combined_descriptions_case2\n",
        "    })\n",
        "\n",
        "    case2_combination_df_fixed['Discount Percentage'] = (\n",
        "        (case2_combination_df_fixed['Combined Price Before Discount'] - case2_combination_df_fixed['Combined Price After Discount'])\n",
        "        / case2_combination_df_fixed['Combined Price Before Discount']\n",
        "    ) * 100\n",
        "\n",
        "    # Combine all datasets: case1, case1.1, and case2+case2.1\n",
        "    final_combined_df = pd.concat([case1_combination_df_new, case1_1_combination_df_new, case2_combination_df_fixed], ignore_index=True)\n",
        "\n",
        "    # Save the final result to an Excel file\n",
        "    final_output_path = \"Final_All_Cases_Combined_Output.xlsx\"\n",
        "    final_combined_df.to_excel(final_output_path, index=False)\n",
        "\n",
        "    return final_output_path\n",
        "\n",
        "# Re-run the combined processing for case1, case1.1, case2, and case2.1\n",
        "final_all_cases_combined_output_path = process_all_cases_combined(\"Final_All_Cases_Combined_Output.xlsx\")\n",
        "final_all_cases_combined_output_path\n"
      ],
      "metadata": {
        "colab": {
          "base_uri": "https://localhost:8080/",
          "height": 90
        },
        "id": "EOGSdc5q5T80",
        "outputId": "89275418-efa5-4dd1-f233-300f9f887138"
      },
      "execution_count": 29,
      "outputs": [
        {
          "output_type": "stream",
          "name": "stderr",
          "text": [
            "<ipython-input-29-519bed8052f0>:8: FutureWarning: DataFrame.fillna with 'method' is deprecated and will raise in a future version. Use obj.ffill() or obj.bfill() instead.\n",
            "  data_alotour_new_filled.fillna(method='ffill', inplace=True)\n"
          ]
        },
        {
          "output_type": "execute_result",
          "data": {
            "text/plain": [
              "'Final_All_Cases_Combined_Output.xlsx'"
            ],
            "application/vnd.google.colaboratory.intrinsic+json": {
              "type": "string"
            }
          },
          "metadata": {},
          "execution_count": 29
        }
      ]
    }
  ]
}