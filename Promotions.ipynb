{
  "nbformat": 4,
  "nbformat_minor": 0,
  "metadata": {
    "colab": {
      "provenance": [],
      "authorship_tag": "ABX9TyNmUUbtlw8J3XJ675/248dF",
      "include_colab_link": true
    },
    "kernelspec": {
      "name": "python3",
      "display_name": "Python 3"
    },
    "language_info": {
      "name": "python"
    }
  },
  "cells": [
    {
      "cell_type": "markdown",
      "metadata": {
        "id": "view-in-github",
        "colab_type": "text"
      },
      "source": [
        "<a href=\"https://colab.research.google.com/github/mohamedabdelaty74/Knooz/blob/main/Promotions.ipynb\" target=\"_parent\"><img src=\"https://colab.research.google.com/assets/colab-badge.svg\" alt=\"Open In Colab\"/></a>"
      ]
    },
    {
      "cell_type": "code",
      "source": [
        "import pandas as pd\n",
        "from itertools import combinations, product\n",
        "\n",
        "def process_cases_from_any_sheet(file_path, sheet_name):\n",
        "    # Load the Excel file\n",
        "    data_alotour_new_filled = pd.read_excel(\"/content/عروض شهر سبتمبر 2024 مالية.xlsx\", sheet_name=\"العطور والبخور\")\n",
        "\n",
        "    # Fill down missing values for all relevant columns\n",
        "    data_alotour_new_filled.fillna(method='ffill', inplace=True)\n",
        "\n",
        "    # Define a function to handle pairwise combinations (for cases like case1 and case1.1)\n",
        "    def process_case_combinations(case_data):\n",
        "        product_combinations = list(combinations(case_data.iterrows(), 2))\n",
        "        combined_codes = []\n",
        "        combined_names = []\n",
        "        combined_prices_before = []\n",
        "        combined_prices_after = []\n",
        "        combined_descriptions = []\n",
        "\n",
        "        for (i1, prod1), (i2, prod2) in product_combinations:\n",
        "            code_comb = f\"{prod1['مرجع داخلي']}, {prod2['مرجع داخلي']}\"  # Internal Reference\n",
        "            name_comb = f\"{prod1['الاسم']} + {prod2['الاسم']}\"  # Product Name\n",
        "            price_before_comb = prod1['السعر قبل الخصم ش.ض'] + prod2['السعر قبل الخصم ش.ض']  # Price Before Discount\n",
        "            price_after_comb = prod1['السعر بعد الخصم ش.ض'] + prod2['السعر بعد الخصم ش.ض']  # Price After Discount\n",
        "            description_comb = f\"{prod1['الوصف']}, {prod2['الوصف']}\"  # Description\n",
        "\n",
        "            combined_codes.append(code_comb)\n",
        "            combined_names.append(name_comb)\n",
        "            combined_prices_before.append(price_before_comb)\n",
        "            combined_prices_after.append(price_after_comb)\n",
        "            combined_descriptions.append(description_comb)\n",
        "\n",
        "        case_combination_df = pd.DataFrame({\n",
        "            'Combined Codes': combined_codes,\n",
        "            'Combined Names': combined_names,\n",
        "            'Combined Price Before Discount': combined_prices_before,\n",
        "            'Combined Price After Discount': combined_prices_after,\n",
        "            'Description': combined_descriptions\n",
        "        })\n",
        "\n",
        "        case_combination_df['Discount Percentage'] = (\n",
        "            (case_combination_df['Combined Price Before Discount'] - case_combination_df['Combined Price After Discount'])\n",
        "            / case_combination_df['Combined Price Before Discount']\n",
        "        ) * 100\n",
        "\n",
        "        return case_combination_df\n",
        "\n",
        "    # Define a function to handle Cartesian product (for cases like case2 and case2.1)\n",
        "    def process_case_matrix_product(case_a_data, case_b_data):\n",
        "        product_combinations = list(product(case_a_data.iterrows(), case_b_data.iterrows()))\n",
        "        combined_codes = []\n",
        "        combined_names = []\n",
        "        combined_prices_before = []\n",
        "        combined_prices_after = []\n",
        "        combined_descriptions = []\n",
        "\n",
        "        for (i1, prod1), (i2, prod2) in product_combinations:\n",
        "            code_comb = f\"{prod1['مرجع داخلي']}, {prod2['مرجع داخلي']}\"  # Internal Reference\n",
        "            name_comb = f\"{prod1['الاسم']} + {prod2['الاسم']}\"  # Product Name\n",
        "            price_before_comb = prod1['السعر قبل الخصم ش.ض'] + prod2['السعر قبل الخصم ش.ض']  # Price Before Discount\n",
        "            price_after_comb = prod1['السعر بعد الخصم ش.ض'] + prod2['السعر بعد الخصم ش.ض']  # Price After Discount\n",
        "            description_comb = f\"{prod1['الوصف']}, {prod2['الوصف']}\"  # Description\n",
        "\n",
        "            combined_codes.append(code_comb)\n",
        "            combined_names.append(name_comb)\n",
        "            combined_prices_before.append(price_before_comb)\n",
        "            combined_prices_after.append(price_after_comb)\n",
        "            combined_descriptions.append(description_comb)\n",
        "\n",
        "        case_combination_df = pd.DataFrame({\n",
        "            'Combined Codes': combined_codes,\n",
        "            'Combined Names': combined_names,\n",
        "            'Combined Price Before Discount': combined_prices_before,\n",
        "            'Combined Price After Discount': combined_prices_after,\n",
        "            'Description': combined_descriptions\n",
        "        })\n",
        "\n",
        "        case_combination_df['Discount Percentage'] = (\n",
        "            (case_combination_df['Combined Price Before Discount'] - case_combination_df['Combined Price After Discount'])\n",
        "            / case_combination_df['Combined Price Before Discount']\n",
        "        ) * 100\n",
        "\n",
        "        return case_combination_df\n",
        "\n",
        "    # Process Case1 and Case1.1 individually\n",
        "    individual_cases = ['case1', 'case1.1']\n",
        "    combined_results = []\n",
        "\n",
        "    for case in individual_cases:\n",
        "        case_data = data_alotour_new_filled[data_alotour_new_filled['Status'] == case]\n",
        "\n",
        "        if not case_data.empty:\n",
        "            case_combination_df = process_case_combinations(case_data)\n",
        "            combined_results.append(case_combination_df)\n",
        "\n",
        "    # Process Case2 and its subcases as Cartesian products\n",
        "    case_combinations = [('case2', 'case2.1'), ('case2.2', 'case2.3'), ('case2.4', 'case2.5'), ('case2.6', 'case2.7')]\n",
        "\n",
        "    for case_a, case_b in case_combinations:\n",
        "        case_a_data = data_alotour_new_filled[data_alotour_new_filled['Status'] == case_a]\n",
        "        case_b_data = data_alotour_new_filled[data_alotour_new_filled['Status'] == case_b]\n",
        "\n",
        "        if not case_a_data.empty and not case_b_data.empty:\n",
        "            case_combination_df = process_case_matrix_product(case_a_data, case_b_data)\n",
        "            combined_results.append(case_combination_df)\n",
        "\n",
        "    # Combine all results\n",
        "    if combined_results:\n",
        "        final_combined_df = pd.concat(combined_results, ignore_index=True)\n",
        "\n",
        "        # Adjust \"Combined Codes\" by splitting them into two rows and adding blanks\n",
        "        final_combined_df_expanded = pd.DataFrame()\n",
        "\n",
        "        for index, row in final_combined_df.iterrows():\n",
        "            codes = row['Combined Codes'].split(',')\n",
        "            first_row = row.copy()\n",
        "            second_row = pd.Series([None] * len(row), index=row.index)\n",
        "\n",
        "            first_row['Combined Codes'] = codes[0].strip()  # Keep the first code\n",
        "            second_row['Combined Codes'] = codes[1].strip()  # Move the second code to the new row\n",
        "\n",
        "            final_combined_df_expanded = pd.concat([final_combined_df_expanded, first_row.to_frame().T, second_row.to_frame().T], ignore_index=True)\n",
        "\n",
        "        # Save the final result to an Excel file\n",
        "        final_output_path = \"Final_Cases_Combined_Output_from_Sheet.xlsx\"\n",
        "        final_combined_df_expanded.to_excel(final_output_path, index=False)\n",
        "\n",
        "        return final_output_path\n",
        "    else:\n",
        "        return \"No cases found in the sheet.\"\n",
        "\n",
        "# Example usage:\n",
        "# Provide your Excel file path and the sheet name where data is stored\n",
        "file_path = \"your_file_path_here.xlsx\"\n",
        "sheet_name = \"العطور والبخور\"  # Replace with the actual sheet name you want to process\n",
        "final_output_path = process_cases_from_any_sheet(file_path, sheet_name)\n",
        "print(f\"Output saved to: {final_output_path}\")\n"
      ],
      "metadata": {
        "id": "j9VSrUzyu5lD",
        "outputId": "c9ca02c0-06d0-4fe9-ced6-d04eabfef972",
        "colab": {
          "base_uri": "https://localhost:8080/"
        }
      },
      "execution_count": 31,
      "outputs": [
        {
          "output_type": "stream",
          "name": "stdout",
          "text": [
            "Output saved to: Final_Cases_Combined_Output_from_Sheet.xlsx\n"
          ]
        },
        {
          "output_type": "stream",
          "name": "stderr",
          "text": [
            "<ipython-input-31-c39d2e1b0a6d>:9: FutureWarning: DataFrame.fillna with 'method' is deprecated and will raise in a future version. Use obj.ffill() or obj.bfill() instead.\n",
            "  data_alotour_new_filled.fillna(method='ffill', inplace=True)\n"
          ]
        }
      ]
    },
    {
      "cell_type": "code",
      "source": [],
      "metadata": {
        "id": "0ufgOSn3vJGr"
      },
      "execution_count": null,
      "outputs": []
    }
  ]
}